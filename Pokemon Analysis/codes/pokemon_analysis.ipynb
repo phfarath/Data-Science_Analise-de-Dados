{
 "cells": [
  {
   "cell_type": "markdown",
   "metadata": {},
   "source": [
    "GUIDANCE TO FOLLOW:\n",
    "\n",
    "1. Get only the legendary grass-type Pokémon.\n",
    "2. Get the Pokémon with the highest HP.\n",
    "3. Get the Pokémon with more than 80 Sp. Atk and less than 120 Sp. Atk.\n",
    "4. Get the Pokémon generation with the highest number of Pokémon.\n",
    "5. Get the Pokémon with only one type, how many Pokémon are there, and what is the average between types.\n",
    "6. Get the Pokémon that start with \"J\".\n",
    "7. Get the most common type of Pokémon"
   ]
  },
  {
   "cell_type": "code",
   "execution_count": null,
   "metadata": {},
   "outputs": [],
   "source": [
    "#importing the modules we're going to use \n",
    "import pandas as pd"
   ]
  },
  {
   "cell_type": "code",
   "execution_count": null,
   "metadata": {},
   "outputs": [],
   "source": [
    "#reading the DataFrame\n",
    "original_dataframe = pd.read_csv('Pokemon.csv')\n",
    "display(original_dataframe)"
   ]
  },
  {
   "cell_type": "code",
   "execution_count": null,
   "metadata": {},
   "outputs": [],
   "source": [
    "# 1 . Get only the legendary grass-type Pokémon.\n",
    "\n",
    "#copying the original DataFrame\n",
    "df = original_dataframe.copy()\n",
    "\n",
    "#reading line by line of type 1, type 2 and legendary columns\n",
    "for line in df.index:\n",
    "    type1 = df.loc[line, 'Type 1']\n",
    "    type2 = df.loc[line, 'Type 2']\n",
    "    legendary = df.loc[line, 'Legendary']\n",
    "    \n",
    "    #removing not using values, that is types that are different than grass\n",
    "    if type1 != 'Grass' and type2 != 'Grass':\n",
    "        df = df.drop(line)\n",
    "\n",
    "    #removing the non-legendary pokemons \n",
    "    elif legendary == False:\n",
    "        df = df.drop(line)\n",
    "\n",
    "#showing the new DataFrame\n",
    "display(df)\n"
   ]
  },
  {
   "cell_type": "code",
   "execution_count": null,
   "metadata": {},
   "outputs": [],
   "source": [
    "# 2 . Get the Pokémon with the highest HP.\n",
    "\n",
    "#analyzing line by line of the HP column\n",
    "for line in original_dataframe.index:\n",
    "    hp = original_dataframe.loc[line,'HP']\n",
    "\n",
    "    #getting the highest HP Pokémon\n",
    "    max_hp = original_dataframe['HP'].max()   \n",
    "    \n",
    "    #when the analyzed row has the highest HP\n",
    "    if hp == max_hp: \n",
    "\n",
    "        #showing the results\n",
    "        print(f\"The highest HP Pokémon is {original_dataframe.loc[line,'Name']}\")"
   ]
  },
  {
   "cell_type": "code",
   "execution_count": null,
   "metadata": {},
   "outputs": [],
   "source": [
    "# 3 . Get the Pokémon with more than 80 Sp. Atk and less than 120 Sp. Atk.\n",
    "\n",
    "#copying the original DataFrame\n",
    "df = original_dataframe.copy()\n",
    "\n",
    "#analyzing line by line of the Sp. Atk column\n",
    "for line in df.index:\n",
    "    spatk = df.loc[line,'Sp. Atk']\n",
    "\n",
    "    #removing not using values, that is less than 80 and more than 120 \n",
    "    if spatk <= 80 or spatk >= 120:\n",
    "        df = df.drop(line)\n",
    "\n",
    "#showing the new DataFrame\n",
    "display(df)"
   ]
  },
  {
   "cell_type": "code",
   "execution_count": null,
   "metadata": {},
   "outputs": [],
   "source": [
    "# 4 . Get the Pokémon generation with the highest number of Pokémon.\n",
    "\n",
    "#number of Pokémon per Generation\n",
    "df_values = original_dataframe['Generation'].value_counts().sort_index()\n",
    "\n",
    "print(df_values)\n",
    "\n",
    "#Observing which generation they belong to and the highest number of Pokémon\n",
    "generation = df_values.idxmax()\n",
    "num_pokemons = df_values.max()\n",
    "\n",
    "#showing the results\n",
    "print(f'\\nO maior numero de pokemon esta na geração: {generation} e são {num_pokemons} pokemons')"
   ]
  },
  {
   "cell_type": "code",
   "execution_count": null,
   "metadata": {},
   "outputs": [],
   "source": [
    "# 5 . Get the Pokémon with only one type, how many Pokémon are there, and what is the average between types.\n",
    "\n",
    "# Copying the original DataFrame and getting those that do not have a second type\n",
    "df = original_dataframe[original_dataframe['Type 2'].isnull()]\n",
    "\n",
    "# Counting the unique type Pokémon\n",
    "quant_nulo = df.shape[0]\n",
    "\n",
    "# Number of existing types\n",
    "quant_tipos = 18\n",
    "\n",
    "# Dividing to find the average\n",
    "media_tipos = quant_nulo // quant_tipos\n",
    "\n",
    "#showing the results\n",
    "display(df)\n",
    "print(f'O numero de pokemons de tipo único são: {quant_nulo} e a media de tipos dentre eles é: {media_tipos}')"
   ]
  },
  {
   "cell_type": "code",
   "execution_count": null,
   "metadata": {},
   "outputs": [],
   "source": [
    "# 6 .  Get the Pokémon that start with \"J\".\n",
    "\n",
    "# Copying the original DataFrame\n",
    "df_names = original_dataframe.copy()\n",
    "\n",
    "# Using the function that gets the first letter of the Pokémon names\n",
    "df = df_names[df_names['Name'].str.startswith('J')]\n",
    "\n",
    "# Showing the results \n",
    "display(df)\n"
   ]
  },
  {
   "cell_type": "code",
   "execution_count": null,
   "metadata": {},
   "outputs": [],
   "source": [
    "# 7 . Get the most common type of Pokémon\n",
    "\n",
    "# counting how many Pokémon are in each type\n",
    "count_type1 = original_dataframe['Type 1'].value_counts()\n",
    "count_type2 = original_dataframe['Type 2'].value_counts()\n",
    "\n",
    "# adding the results to another variable\n",
    "general_count = count_type1.add(count_type2)\n",
    "\n",
    "# getting the highest number of Pokémon\n",
    "most_common_type = general_count.idxmax()\n",
    "\n",
    "# showing the results \n",
    "print(\"O tipo de Pokémon mais comum é:\", most_common_type)"
   ]
  }
 ],
 "metadata": {
  "kernelspec": {
   "display_name": "Python 3",
   "language": "python",
   "name": "python3"
  },
  "language_info": {
   "codemirror_mode": {
    "name": "ipython",
    "version": 3
   },
   "file_extension": ".py",
   "mimetype": "text/x-python",
   "name": "python",
   "nbconvert_exporter": "python",
   "pygments_lexer": "ipython3",
   "version": "3.12.2"
  }
 },
 "nbformat": 4,
 "nbformat_minor": 2
}
